{
  "nbformat": 4,
  "nbformat_minor": 0,
  "metadata": {
    "colab": {
      "provenance": [],
      "authorship_tag": "ABX9TyOzzzt+NkiLuCQbIhpnO9uY",
      "include_colab_link": true
    },
    "kernelspec": {
      "name": "ir",
      "display_name": "R"
    },
    "language_info": {
      "name": "R"
    },
    "accelerator": "GPU"
  },
  "cells": [
    {
      "cell_type": "markdown",
      "metadata": {
        "id": "view-in-github",
        "colab_type": "text"
      },
      "source": [
        "<a href=\"https://colab.research.google.com/github/AbrahamW11/WST-802/blob/main/Keras_model_for_MNIST_in_R.ipynb\" target=\"_parent\"><img src=\"https://colab.research.google.com/assets/colab-badge.svg\" alt=\"Open In Colab\"/></a>"
      ]
    },
    {
      "cell_type": "markdown",
      "source": [
        "Code example found on:  \n",
        "https://cran.r-project.org/web/packages/keras/vignettes/index.html"
      ],
      "metadata": {
        "id": "fhS77r7fpOBJ"
      }
    },
    {
      "cell_type": "code",
      "source": [
        "install.packages(\"keras\",dependencies = TRUE)\n",
        "library(\"keras\")\n",
        "#reticulate::install_miniconda()\n",
        "install_keras(method=c(\"conda\"), version=\"2.5\")"
      ],
      "metadata": {
        "colab": {
          "base_uri": "https://localhost:8080/"
        },
        "id": "9tmA2m8Hf3yy",
        "outputId": "712ad82b-8769-4810-8416-634eaa584ce9"
      },
      "execution_count": null,
      "outputs": [
        {
          "output_type": "stream",
          "name": "stderr",
          "text": [
            "Installing package into ‘/usr/local/lib/R/site-library’\n",
            "(as ‘lib’ is unspecified)\n",
            "\n",
            "also installing the dependency ‘tfdatasets’\n",
            "\n",
            "\n"
          ]
        }
      ]
    },
    {
      "cell_type": "code",
      "source": [
        "library(keras)\n",
        "mnist <- dataset_mnist()\n",
        "x_train <- mnist$train$x\n",
        "y_train <- mnist$train$y\n",
        "x_test <- mnist$test$x\n",
        "y_test <- mnist$test$y"
      ],
      "metadata": {
        "colab": {
          "base_uri": "https://localhost:8080/"
        },
        "id": "mdiE_NXbgprG",
        "outputId": "24bd3472-d5f1-4c60-a112-c8932a9b829e"
      },
      "execution_count": null,
      "outputs": [
        {
          "output_type": "stream",
          "name": "stderr",
          "text": [
            "Loaded Tensorflow version 2.5.3\n",
            "\n"
          ]
        }
      ]
    },
    {
      "cell_type": "markdown",
      "source": [
        "The x data is a 3-d array (images,width,height) of grayscale values . To prepare the data for training we convert the 3-d arrays into matrices by reshaping width and height into a single dimension (28x28 images are flattened into length 784 vectors). Then, we convert the grayscale values from integers ranging between 0 to 255 into floating point values ranging between 0 and 1:"
      ],
      "metadata": {
        "id": "cpzEoapBpIVe"
      }
    },
    {
      "cell_type": "markdown",
      "source": [
        "Note that we use the array_reshape() function rather than the dim<-() function to reshape the array. This is so that the data is re-interpreted using row-major semantics (as opposed to R’s default column-major semantics), which is in turn compatible with the way that the numerical libraries called by Keras interpret array dimensions."
      ],
      "metadata": {
        "id": "eCa2CgfzpLMW"
      }
    },
    {
      "cell_type": "code",
      "source": [
        "# reshape\n",
        "x_train <- array_reshape(x_train, c(nrow(x_train), 784))\n",
        "x_test <- array_reshape(x_test, c(nrow(x_test), 784))\n",
        "# rescale\n",
        "x_train <- x_train / 255\n",
        "x_test <- x_test / 255"
      ],
      "metadata": {
        "id": "fnR2I8_wgrS0"
      },
      "execution_count": null,
      "outputs": []
    },
    {
      "cell_type": "markdown",
      "source": [
        "The y data is an integer vector with values ranging from 0 to 9. To prepare this data for training we one-hot encode the vectors into binary class matrices using the Keras to_categorical() function:"
      ],
      "metadata": {
        "id": "2ZTx95Gio3a9"
      }
    },
    {
      "cell_type": "code",
      "source": [
        "y_train <- to_categorical(y_train, 10)\n",
        "y_test <- to_categorical(y_test, 10)"
      ],
      "metadata": {
        "id": "F1dskNjigtLa"
      },
      "execution_count": null,
      "outputs": []
    },
    {
      "cell_type": "code",
      "source": [
        "model <- keras_model_sequential() \n",
        "model %>% \n",
        "  layer_dense(units = 256, activation = 'relu', input_shape = c(784)) %>% \n",
        "  layer_dropout(rate = 0.4) %>% \n",
        "  layer_dense(units = 128, activation = 'relu') %>%\n",
        "  layer_dropout(rate = 0.3) %>%\n",
        "  layer_dense(units = 10, activation = 'softmax')"
      ],
      "metadata": {
        "id": "pu_tLYxZgur4"
      },
      "execution_count": null,
      "outputs": []
    },
    {
      "cell_type": "code",
      "source": [
        "summary(model)"
      ],
      "metadata": {
        "colab": {
          "base_uri": "https://localhost:8080/"
        },
        "id": "jezQhKdNh3Uy",
        "outputId": "c143f45e-503d-4c9a-c084-4d887c3629d1"
      },
      "execution_count": null,
      "outputs": [
        {
          "output_type": "stream",
          "name": "stdout",
          "text": [
            "Model: \"sequential\"\n",
            "________________________________________________________________________________\n",
            "Layer (type)                        Output Shape                    Param #     \n",
            "================================================================================\n",
            "dense_2 (Dense)                     (None, 256)                     200960      \n",
            "________________________________________________________________________________\n",
            "dropout_1 (Dropout)                 (None, 256)                     0           \n",
            "________________________________________________________________________________\n",
            "dense_1 (Dense)                     (None, 128)                     32896       \n",
            "________________________________________________________________________________\n",
            "dropout (Dropout)                   (None, 128)                     0           \n",
            "________________________________________________________________________________\n",
            "dense (Dense)                       (None, 10)                      1290        \n",
            "================================================================================\n",
            "Total params: 235,146\n",
            "Trainable params: 235,146\n",
            "Non-trainable params: 0\n",
            "________________________________________________________________________________\n"
          ]
        }
      ]
    },
    {
      "cell_type": "code",
      "source": [
        "model %>% compile(\n",
        "  loss = 'categorical_crossentropy',\n",
        "  optimizer = 'adam',\n",
        "  metrics = c('accuracy')\n",
        ")"
      ],
      "metadata": {
        "id": "dhTaDdEojJ0N"
      },
      "execution_count": null,
      "outputs": []
    },
    {
      "cell_type": "code",
      "source": [
        "history <- model %>% fit(\n",
        "  x_train, y_train, \n",
        "  epochs = 30, batch_size = 128, \n",
        "  validation_split = 0.2\n",
        ")"
      ],
      "metadata": {
        "id": "WUzw3V2YjLYE"
      },
      "execution_count": null,
      "outputs": []
    },
    {
      "cell_type": "code",
      "source": [
        "plot(history)"
      ],
      "metadata": {
        "id": "aE_UVUwJo7di"
      },
      "execution_count": null,
      "outputs": []
    },
    {
      "cell_type": "code",
      "source": [
        "model %>% evaluate(x_test, y_test)"
      ],
      "metadata": {
        "colab": {
          "base_uri": "https://localhost:8080/",
          "height": 34
        },
        "id": "ItuvwTKjjPtF",
        "outputId": "1ae8332d-4694-4556-c6bd-934bb7d4798c"
      },
      "execution_count": null,
      "outputs": [
        {
          "output_type": "display_data",
          "data": {
            "text/html": [
              "<style>\n",
              ".dl-inline {width: auto; margin:0; padding: 0}\n",
              ".dl-inline>dt, .dl-inline>dd {float: none; width: auto; display: inline-block}\n",
              ".dl-inline>dt::after {content: \":\\0020\"; padding-right: .5ex}\n",
              ".dl-inline>dt:not(:first-of-type) {padding-left: .5ex}\n",
              "</style><dl class=dl-inline><dt>loss</dt><dd>0.109812393784523</dd><dt>accuracy</dt><dd>0.981700003147125</dd></dl>\n"
            ],
            "text/markdown": "loss\n:   0.109812393784523accuracy\n:   0.981700003147125\n\n",
            "text/latex": "\\begin{description*}\n\\item[loss] 0.109812393784523\n\\item[accuracy] 0.981700003147125\n\\end{description*}\n",
            "text/plain": [
              "     loss  accuracy \n",
              "0.1098124 0.9817000 "
            ]
          },
          "metadata": {}
        }
      ]
    },
    {
      "cell_type": "code",
      "source": [
        "model %>% predict_classes(x_test)"
      ],
      "metadata": {
        "colab": {
          "base_uri": "https://localhost:8080/",
          "height": 364
        },
        "id": "DtoB3ocjjR7i",
        "outputId": "c19e38aa-1dc7-430e-ec3b-3f388d69011a"
      },
      "execution_count": null,
      "outputs": [
        {
          "output_type": "stream",
          "name": "stderr",
          "text": [
            "Warning message in predict_classes(., x_test):\n",
            "“`predict_classes()` is deprecated and and was removed from tensorflow in version 2.6.\n",
            "Please update your code:\n",
            "  * If your model does multi-class classification:\n",
            "    (e.g. if it uses a `softmax` last-layer activation).\n",
            "\n",
            "      model %>% predict(x) %>% k_argmax()\n",
            "\n",
            "  * if your model does binary classification\n",
            "    (e.g. if it uses a `sigmoid` last-layer activation).\n",
            "\n",
            "      model %>% predict(x) %>% `>`(0.5) %>% k_cast(\"int32\")\n",
            "”\n"
          ]
        },
        {
          "output_type": "display_data",
          "data": {
            "text/html": [
              "<style>\n",
              ".list-inline {list-style: none; margin:0; padding: 0}\n",
              ".list-inline>li {display: inline-block}\n",
              ".list-inline>li:not(:last-child)::after {content: \"\\00b7\"; padding: 0 .5ex}\n",
              "</style>\n",
              "<ol class=list-inline><li>7</li><li>2</li><li>1</li><li>0</li><li>4</li><li>1</li><li>4</li><li>9</li><li>5</li><li>9</li><li>0</li><li>6</li><li>9</li><li>0</li><li>1</li><li>5</li><li>9</li><li>7</li><li>3</li><li>4</li><li>9</li><li>6</li><li>6</li><li>5</li><li>4</li><li>0</li><li>7</li><li>4</li><li>0</li><li>1</li><li>3</li><li>1</li><li>3</li><li>4</li><li>7</li><li>2</li><li>7</li><li>1</li><li>2</li><li>1</li><li>1</li><li>7</li><li>4</li><li>2</li><li>3</li><li>5</li><li>1</li><li>2</li><li>4</li><li>4</li><li>6</li><li>3</li><li>5</li><li>5</li><li>6</li><li>0</li><li>4</li><li>1</li><li>9</li><li>5</li><li>7</li><li>8</li><li>9</li><li>3</li><li>7</li><li>4</li><li>6</li><li>4</li><li>3</li><li>0</li><li>7</li><li>0</li><li>2</li><li>9</li><li>1</li><li>7</li><li>3</li><li>2</li><li>9</li><li>7</li><li>7</li><li>6</li><li>2</li><li>7</li><li>8</li><li>4</li><li>7</li><li>3</li><li>6</li><li>1</li><li>3</li><li>6</li><li>9</li><li>3</li><li>1</li><li>4</li><li>1</li><li>7</li><li>6</li><li>9</li><li>6</li><li>0</li><li>5</li><li>4</li><li>9</li><li>9</li><li>2</li><li>1</li><li>9</li><li>4</li><li>8</li><li>7</li><li>3</li><li>9</li><li>7</li><li>4</li><li>4</li><li>4</li><li>9</li><li>2</li><li>5</li><li>4</li><li>7</li><li>6</li><li>7</li><li>9</li><li>0</li><li>5</li><li>8</li><li>5</li><li>6</li><li>6</li><li>5</li><li>7</li><li>8</li><li>1</li><li>0</li><li>1</li><li>6</li><li>4</li><li>6</li><li>7</li><li>3</li><li>1</li><li>7</li><li>1</li><li>8</li><li>2</li><li>0</li><li>2</li><li>9</li><li>9</li><li>5</li><li>5</li><li>1</li><li>5</li><li>6</li><li>0</li><li>3</li><li>4</li><li>4</li><li>6</li><li>5</li><li>4</li><li>6</li><li>5</li><li>4</li><li>5</li><li>1</li><li>4</li><li>4</li><li>7</li><li>2</li><li>3</li><li>2</li><li>7</li><li>1</li><li>8</li><li>1</li><li>8</li><li>1</li><li>8</li><li>5</li><li>0</li><li>8</li><li>9</li><li>2</li><li>5</li><li>0</li><li>1</li><li>1</li><li>1</li><li>0</li><li>9</li><li>0</li><li>3</li><li>1</li><li>6</li><li>4</li><li>2</li><li>⋯</li><li>0</li><li>0</li><li>1</li><li>2</li><li>3</li><li>4</li><li>7</li><li>8</li><li>9</li><li>0</li><li>1</li><li>2</li><li>3</li><li>4</li><li>5</li><li>6</li><li>7</li><li>8</li><li>0</li><li>1</li><li>2</li><li>3</li><li>4</li><li>7</li><li>8</li><li>9</li><li>0</li><li>8</li><li>3</li><li>9</li><li>5</li><li>5</li><li>2</li><li>6</li><li>8</li><li>4</li><li>1</li><li>7</li><li>1</li><li>7</li><li>3</li><li>5</li><li>6</li><li>9</li><li>1</li><li>1</li><li>1</li><li>2</li><li>1</li><li>2</li><li>0</li><li>7</li><li>7</li><li>5</li><li>8</li><li>2</li><li>9</li><li>8</li><li>8</li><li>7</li><li>3</li><li>4</li><li>6</li><li>8</li><li>7</li><li>0</li><li>4</li><li>2</li><li>7</li><li>7</li><li>5</li><li>4</li><li>3</li><li>4</li><li>2</li><li>8</li><li>1</li><li>5</li><li>1</li><li>0</li><li>2</li><li>3</li><li>3</li><li>5</li><li>7</li><li>0</li><li>6</li><li>8</li><li>6</li><li>3</li><li>9</li><li>9</li><li>8</li><li>2</li><li>7</li><li>7</li><li>1</li><li>0</li><li>1</li><li>7</li><li>8</li><li>9</li><li>0</li><li>1</li><li>0</li><li>3</li><li>4</li><li>5</li><li>6</li><li>7</li><li>8</li><li>0</li><li>1</li><li>2</li><li>3</li><li>4</li><li>7</li><li>8</li><li>9</li><li>7</li><li>8</li><li>6</li><li>4</li><li>1</li><li>9</li><li>3</li><li>8</li><li>4</li><li>4</li><li>7</li><li>0</li><li>1</li><li>9</li><li>2</li><li>8</li><li>7</li><li>8</li><li>2</li><li>6</li><li>0</li><li>6</li><li>5</li><li>3</li><li>3</li><li>3</li><li>9</li><li>1</li><li>4</li><li>0</li><li>6</li><li>1</li><li>0</li><li>0</li><li>6</li><li>2</li><li>1</li><li>1</li><li>7</li><li>7</li><li>8</li><li>4</li><li>6</li><li>0</li><li>7</li><li>0</li><li>3</li><li>6</li><li>8</li><li>7</li><li>1</li><li>5</li><li>2</li><li>4</li><li>9</li><li>4</li><li>3</li><li>6</li><li>4</li><li>1</li><li>7</li><li>2</li><li>6</li><li>6</li><li>0</li><li>1</li><li>2</li><li>3</li><li>4</li><li>5</li><li>6</li><li>7</li><li>8</li><li>9</li><li>0</li><li>1</li><li>2</li><li>3</li><li>4</li><li>5</li><li>6</li></ol>\n"
            ],
            "text/markdown": "1. 7\n2. 2\n3. 1\n4. 0\n5. 4\n6. 1\n7. 4\n8. 9\n9. 5\n10. 9\n11. 0\n12. 6\n13. 9\n14. 0\n15. 1\n16. 5\n17. 9\n18. 7\n19. 3\n20. 4\n21. 9\n22. 6\n23. 6\n24. 5\n25. 4\n26. 0\n27. 7\n28. 4\n29. 0\n30. 1\n31. 3\n32. 1\n33. 3\n34. 4\n35. 7\n36. 2\n37. 7\n38. 1\n39. 2\n40. 1\n41. 1\n42. 7\n43. 4\n44. 2\n45. 3\n46. 5\n47. 1\n48. 2\n49. 4\n50. 4\n51. 6\n52. 3\n53. 5\n54. 5\n55. 6\n56. 0\n57. 4\n58. 1\n59. 9\n60. 5\n61. 7\n62. 8\n63. 9\n64. 3\n65. 7\n66. 4\n67. 6\n68. 4\n69. 3\n70. 0\n71. 7\n72. 0\n73. 2\n74. 9\n75. 1\n76. 7\n77. 3\n78. 2\n79. 9\n80. 7\n81. 7\n82. 6\n83. 2\n84. 7\n85. 8\n86. 4\n87. 7\n88. 3\n89. 6\n90. 1\n91. 3\n92. 6\n93. 9\n94. 3\n95. 1\n96. 4\n97. 1\n98. 7\n99. 6\n100. 9\n101. 6\n102. 0\n103. 5\n104. 4\n105. 9\n106. 9\n107. 2\n108. 1\n109. 9\n110. 4\n111. 8\n112. 7\n113. 3\n114. 9\n115. 7\n116. 4\n117. 4\n118. 4\n119. 9\n120. 2\n121. 5\n122. 4\n123. 7\n124. 6\n125. 7\n126. 9\n127. 0\n128. 5\n129. 8\n130. 5\n131. 6\n132. 6\n133. 5\n134. 7\n135. 8\n136. 1\n137. 0\n138. 1\n139. 6\n140. 4\n141. 6\n142. 7\n143. 3\n144. 1\n145. 7\n146. 1\n147. 8\n148. 2\n149. 0\n150. 2\n151. 9\n152. 9\n153. 5\n154. 5\n155. 1\n156. 5\n157. 6\n158. 0\n159. 3\n160. 4\n161. 4\n162. 6\n163. 5\n164. 4\n165. 6\n166. 5\n167. 4\n168. 5\n169. 1\n170. 4\n171. 4\n172. 7\n173. 2\n174. 3\n175. 2\n176. 7\n177. 1\n178. 8\n179. 1\n180. 8\n181. 1\n182. 8\n183. 5\n184. 0\n185. 8\n186. 9\n187. 2\n188. 5\n189. 0\n190. 1\n191. 1\n192. 1\n193. 0\n194. 9\n195. 0\n196. 3\n197. 1\n198. 6\n199. 4\n200. 2\n201. ⋯\n202. 0\n203. 0\n204. 1\n205. 2\n206. 3\n207. 4\n208. 7\n209. 8\n210. 9\n211. 0\n212. 1\n213. 2\n214. 3\n215. 4\n216. 5\n217. 6\n218. 7\n219. 8\n220. 0\n221. 1\n222. 2\n223. 3\n224. 4\n225. 7\n226. 8\n227. 9\n228. 0\n229. 8\n230. 3\n231. 9\n232. 5\n233. 5\n234. 2\n235. 6\n236. 8\n237. 4\n238. 1\n239. 7\n240. 1\n241. 7\n242. 3\n243. 5\n244. 6\n245. 9\n246. 1\n247. 1\n248. 1\n249. 2\n250. 1\n251. 2\n252. 0\n253. 7\n254. 7\n255. 5\n256. 8\n257. 2\n258. 9\n259. 8\n260. 8\n261. 7\n262. 3\n263. 4\n264. 6\n265. 8\n266. 7\n267. 0\n268. 4\n269. 2\n270. 7\n271. 7\n272. 5\n273. 4\n274. 3\n275. 4\n276. 2\n277. 8\n278. 1\n279. 5\n280. 1\n281. 0\n282. 2\n283. 3\n284. 3\n285. 5\n286. 7\n287. 0\n288. 6\n289. 8\n290. 6\n291. 3\n292. 9\n293. 9\n294. 8\n295. 2\n296. 7\n297. 7\n298. 1\n299. 0\n300. 1\n301. 7\n302. 8\n303. 9\n304. 0\n305. 1\n306. 0\n307. 3\n308. 4\n309. 5\n310. 6\n311. 7\n312. 8\n313. 0\n314. 1\n315. 2\n316. 3\n317. 4\n318. 7\n319. 8\n320. 9\n321. 7\n322. 8\n323. 6\n324. 4\n325. 1\n326. 9\n327. 3\n328. 8\n329. 4\n330. 4\n331. 7\n332. 0\n333. 1\n334. 9\n335. 2\n336. 8\n337. 7\n338. 8\n339. 2\n340. 6\n341. 0\n342. 6\n343. 5\n344. 3\n345. 3\n346. 3\n347. 9\n348. 1\n349. 4\n350. 0\n351. 6\n352. 1\n353. 0\n354. 0\n355. 6\n356. 2\n357. 1\n358. 1\n359. 7\n360. 7\n361. 8\n362. 4\n363. 6\n364. 0\n365. 7\n366. 0\n367. 3\n368. 6\n369. 8\n370. 7\n371. 1\n372. 5\n373. 2\n374. 4\n375. 9\n376. 4\n377. 3\n378. 6\n379. 4\n380. 1\n381. 7\n382. 2\n383. 6\n384. 6\n385. 0\n386. 1\n387. 2\n388. 3\n389. 4\n390. 5\n391. 6\n392. 7\n393. 8\n394. 9\n395. 0\n396. 1\n397. 2\n398. 3\n399. 4\n400. 5\n401. 6\n\n\n",
            "text/latex": "\\begin{enumerate*}\n\\item 7\n\\item 2\n\\item 1\n\\item 0\n\\item 4\n\\item 1\n\\item 4\n\\item 9\n\\item 5\n\\item 9\n\\item 0\n\\item 6\n\\item 9\n\\item 0\n\\item 1\n\\item 5\n\\item 9\n\\item 7\n\\item 3\n\\item 4\n\\item 9\n\\item 6\n\\item 6\n\\item 5\n\\item 4\n\\item 0\n\\item 7\n\\item 4\n\\item 0\n\\item 1\n\\item 3\n\\item 1\n\\item 3\n\\item 4\n\\item 7\n\\item 2\n\\item 7\n\\item 1\n\\item 2\n\\item 1\n\\item 1\n\\item 7\n\\item 4\n\\item 2\n\\item 3\n\\item 5\n\\item 1\n\\item 2\n\\item 4\n\\item 4\n\\item 6\n\\item 3\n\\item 5\n\\item 5\n\\item 6\n\\item 0\n\\item 4\n\\item 1\n\\item 9\n\\item 5\n\\item 7\n\\item 8\n\\item 9\n\\item 3\n\\item 7\n\\item 4\n\\item 6\n\\item 4\n\\item 3\n\\item 0\n\\item 7\n\\item 0\n\\item 2\n\\item 9\n\\item 1\n\\item 7\n\\item 3\n\\item 2\n\\item 9\n\\item 7\n\\item 7\n\\item 6\n\\item 2\n\\item 7\n\\item 8\n\\item 4\n\\item 7\n\\item 3\n\\item 6\n\\item 1\n\\item 3\n\\item 6\n\\item 9\n\\item 3\n\\item 1\n\\item 4\n\\item 1\n\\item 7\n\\item 6\n\\item 9\n\\item 6\n\\item 0\n\\item 5\n\\item 4\n\\item 9\n\\item 9\n\\item 2\n\\item 1\n\\item 9\n\\item 4\n\\item 8\n\\item 7\n\\item 3\n\\item 9\n\\item 7\n\\item 4\n\\item 4\n\\item 4\n\\item 9\n\\item 2\n\\item 5\n\\item 4\n\\item 7\n\\item 6\n\\item 7\n\\item 9\n\\item 0\n\\item 5\n\\item 8\n\\item 5\n\\item 6\n\\item 6\n\\item 5\n\\item 7\n\\item 8\n\\item 1\n\\item 0\n\\item 1\n\\item 6\n\\item 4\n\\item 6\n\\item 7\n\\item 3\n\\item 1\n\\item 7\n\\item 1\n\\item 8\n\\item 2\n\\item 0\n\\item 2\n\\item 9\n\\item 9\n\\item 5\n\\item 5\n\\item 1\n\\item 5\n\\item 6\n\\item 0\n\\item 3\n\\item 4\n\\item 4\n\\item 6\n\\item 5\n\\item 4\n\\item 6\n\\item 5\n\\item 4\n\\item 5\n\\item 1\n\\item 4\n\\item 4\n\\item 7\n\\item 2\n\\item 3\n\\item 2\n\\item 7\n\\item 1\n\\item 8\n\\item 1\n\\item 8\n\\item 1\n\\item 8\n\\item 5\n\\item 0\n\\item 8\n\\item 9\n\\item 2\n\\item 5\n\\item 0\n\\item 1\n\\item 1\n\\item 1\n\\item 0\n\\item 9\n\\item 0\n\\item 3\n\\item 1\n\\item 6\n\\item 4\n\\item 2\n\\item ⋯\n\\item 0\n\\item 0\n\\item 1\n\\item 2\n\\item 3\n\\item 4\n\\item 7\n\\item 8\n\\item 9\n\\item 0\n\\item 1\n\\item 2\n\\item 3\n\\item 4\n\\item 5\n\\item 6\n\\item 7\n\\item 8\n\\item 0\n\\item 1\n\\item 2\n\\item 3\n\\item 4\n\\item 7\n\\item 8\n\\item 9\n\\item 0\n\\item 8\n\\item 3\n\\item 9\n\\item 5\n\\item 5\n\\item 2\n\\item 6\n\\item 8\n\\item 4\n\\item 1\n\\item 7\n\\item 1\n\\item 7\n\\item 3\n\\item 5\n\\item 6\n\\item 9\n\\item 1\n\\item 1\n\\item 1\n\\item 2\n\\item 1\n\\item 2\n\\item 0\n\\item 7\n\\item 7\n\\item 5\n\\item 8\n\\item 2\n\\item 9\n\\item 8\n\\item 8\n\\item 7\n\\item 3\n\\item 4\n\\item 6\n\\item 8\n\\item 7\n\\item 0\n\\item 4\n\\item 2\n\\item 7\n\\item 7\n\\item 5\n\\item 4\n\\item 3\n\\item 4\n\\item 2\n\\item 8\n\\item 1\n\\item 5\n\\item 1\n\\item 0\n\\item 2\n\\item 3\n\\item 3\n\\item 5\n\\item 7\n\\item 0\n\\item 6\n\\item 8\n\\item 6\n\\item 3\n\\item 9\n\\item 9\n\\item 8\n\\item 2\n\\item 7\n\\item 7\n\\item 1\n\\item 0\n\\item 1\n\\item 7\n\\item 8\n\\item 9\n\\item 0\n\\item 1\n\\item 0\n\\item 3\n\\item 4\n\\item 5\n\\item 6\n\\item 7\n\\item 8\n\\item 0\n\\item 1\n\\item 2\n\\item 3\n\\item 4\n\\item 7\n\\item 8\n\\item 9\n\\item 7\n\\item 8\n\\item 6\n\\item 4\n\\item 1\n\\item 9\n\\item 3\n\\item 8\n\\item 4\n\\item 4\n\\item 7\n\\item 0\n\\item 1\n\\item 9\n\\item 2\n\\item 8\n\\item 7\n\\item 8\n\\item 2\n\\item 6\n\\item 0\n\\item 6\n\\item 5\n\\item 3\n\\item 3\n\\item 3\n\\item 9\n\\item 1\n\\item 4\n\\item 0\n\\item 6\n\\item 1\n\\item 0\n\\item 0\n\\item 6\n\\item 2\n\\item 1\n\\item 1\n\\item 7\n\\item 7\n\\item 8\n\\item 4\n\\item 6\n\\item 0\n\\item 7\n\\item 0\n\\item 3\n\\item 6\n\\item 8\n\\item 7\n\\item 1\n\\item 5\n\\item 2\n\\item 4\n\\item 9\n\\item 4\n\\item 3\n\\item 6\n\\item 4\n\\item 1\n\\item 7\n\\item 2\n\\item 6\n\\item 6\n\\item 0\n\\item 1\n\\item 2\n\\item 3\n\\item 4\n\\item 5\n\\item 6\n\\item 7\n\\item 8\n\\item 9\n\\item 0\n\\item 1\n\\item 2\n\\item 3\n\\item 4\n\\item 5\n\\item 6\n\\end{enumerate*}\n",
            "text/plain": [
              "    [1] 7 2 1 0 4 1 4 9 5 9 0 6 9 0 1 5 9 7 3 4 9 6 6 5 4 0 7 4 0 1 3 1 3 4 7 2\n",
              "   [37] 7 1 2 1 1 7 4 2 3 5 1 2 4 4 6 3 5 5 6 0 4 1 9 5 7 8 9 3 7 4 6 4 3 0 7 0\n",
              "   [73] 2 9 1 7 3 2 9 7 7 6 2 7 8 4 7 3 6 1 3 6 9 3 1 4 1 7 6 9 6 0 5 4 9 9 2 1\n",
              "  [109] 9 4 8 7 3 9 7 4 4 4 9 2 5 4 7 6 7 9 0 5 8 5 6 6 5 7 8 1 0 1 6 4 6 7 3 1\n",
              "  [145] 7 1 8 2 0 2 9 9 5 5 1 5 6 0 3 4 4 6 5 4 6 5 4 5 1 4 4 7 2 3 2 7 1 8 1 8\n",
              "  [181] 1 8 5 0 8 9 2 5 0 1 1 1 0 9 0 3 1 6 4 2 3 6 1 1 1 3 9 5 2 9 4 5 9 3 9 0\n",
              "  [217] 3 6 5 5 7 2 2 7 1 2 8 4 1 7 3 3 8 8 7 9 2 2 4 1 5 9 8 7 2 3 0 6 4 2 4 1\n",
              "  [253] 9 5 7 7 2 8 2 6 8 5 7 7 9 1 8 1 8 0 3 0 1 9 9 4 1 8 2 1 2 9 7 5 9 2 6 4\n",
              "  [289] 1 5 8 2 9 2 0 4 0 0 2 8 4 7 1 2 4 0 2 7 4 3 3 0 0 3 1 9 6 5 2 5 9 7 9 3\n",
              "  [325] 0 4 2 0 7 1 1 2 1 5 3 3 9 7 8 6 3 6 1 3 8 1 0 5 1 3 1 5 5 6 1 8 5 1 7 9\n",
              "  [361] 4 6 2 2 5 0 6 5 6 3 7 2 0 8 8 5 4 1 1 4 0 3 3 7 6 1 6 2 1 9 2 8 6 1 9 5\n",
              "  [397] 2 5 4 4 2 8 3 8 2 4 5 0 3 1 7 7 5 7 9 7 1 9 2 1 4 2 9 2 0 4 9 1 4 8 1 8\n",
              "  [433] 4 5 9 8 8 3 7 6 0 0 3 0 2 0 6 9 9 3 3 3 2 3 9 1 2 6 8 0 5 6 6 6 3 8 8 2\n",
              "  [469] 7 5 8 9 6 1 8 4 1 2 5 9 1 9 7 5 4 0 8 9 9 1 0 5 2 3 7 0 9 4 0 6 3 9 5 2\n",
              "  [505] 1 3 1 3 6 5 7 4 2 2 6 3 2 6 5 4 8 9 7 1 3 0 3 8 3 1 9 3 4 4 6 4 2 1 8 2\n",
              "  [541] 5 4 8 8 4 0 0 2 3 2 7 7 0 8 7 4 4 7 9 6 9 0 9 8 0 4 6 0 6 3 5 4 8 3 3 9\n",
              "  [577] 3 3 3 7 8 0 2 8 1 7 0 6 5 4 3 8 0 9 6 3 8 0 9 9 6 8 6 8 5 7 8 6 0 2 6 0\n",
              "  [613] 2 2 3 1 9 7 5 1 0 8 4 6 2 6 7 9 3 2 9 8 2 2 9 2 7 3 5 9 1 8 0 2 0 5 2 1\n",
              "  [649] 3 7 6 7 1 2 5 8 0 3 7 2 4 0 9 1 8 6 7 7 4 3 4 9 1 9 5 1 7 3 9 7 6 9 1 3\n",
              "  [685] 3 8 3 3 6 7 2 4 5 8 5 1 1 4 4 3 1 0 7 7 0 7 9 4 4 8 5 5 4 0 8 2 1 6 8 4\n",
              "  [721] 8 0 4 0 6 1 7 3 2 6 7 2 6 9 3 1 4 6 2 5 9 2 0 6 2 1 7 3 4 1 0 5 4 3 1 1\n",
              "  [757] 7 4 9 9 4 8 4 0 2 4 5 1 1 6 4 7 1 9 4 2 4 1 5 5 3 8 3 1 4 5 6 8 9 4 1 5\n",
              "  [793] 3 8 0 3 2 5 1 2 8 3 4 4 0 8 8 3 3 1 7 3 5 9 6 3 2 6 1 3 6 0 7 2 1 7 1 4\n",
              "  [829] 2 4 2 1 7 9 6 1 1 2 4 8 1 7 7 4 8 0 7 3 1 3 1 0 7 7 0 3 5 5 2 7 6 6 9 2\n",
              "  [865] 8 3 5 2 2 5 6 0 8 2 9 2 8 8 8 8 7 4 9 3 0 6 6 3 2 1 3 2 2 9 3 0 0 5 7 8\n",
              "  [901] 3 4 4 6 0 2 9 1 4 7 4 7 3 9 8 8 4 7 1 2 1 2 2 3 2 3 2 3 9 1 7 4 0 3 5 5\n",
              "  [937] 8 6 3 2 6 7 6 6 3 2 7 8 1 1 7 4 6 4 9 5 2 3 3 4 7 8 9 1 1 6 9 1 4 4 5 4\n",
              "  [973] 0 6 2 2 3 1 5 1 2 0 3 8 1 2 6 7 1 6 2 3 9 0 1 2 2 0 8 9 9 0 2 5 1 9 7 8\n",
              " [1009] 1 0 4 1 7 9 5 4 2 6 8 1 3 7 5 4 4 1 8 1 3 8 1 2 5 8 0 6 2 1 1 2 1 5 3 4\n",
              " [1045] 6 9 5 0 9 2 2 4 8 2 1 7 2 4 9 4 4 0 3 9 2 2 3 3 8 3 5 7 3 5 8 1 2 4 4 6\n",
              " [1081] 4 9 5 1 0 6 9 5 9 5 9 7 3 8 0 3 7 1 3 6 7 8 5 9 7 9 6 9 6 3 7 4 6 5 3 5\n",
              " [1117] 4 7 8 7 8 0 7 6 8 8 7 3 7 1 9 5 2 7 3 5 1 1 2 1 4 7 4 7 5 4 5 4 0 8 3 6\n",
              " [1153] 9 6 0 2 7 4 4 4 4 6 6 4 7 9 3 4 5 5 8 7 3 7 2 7 0 2 4 1 1 1 6 9 2 8 7 2\n",
              " [1189] 0 1 5 0 9 1 7 0 6 0 8 6 8 1 8 0 3 3 7 2 3 6 2 1 6 1 1 3 7 9 0 8 0 5 4 0\n",
              " [1225] 2 8 2 2 9 8 4 0 9 5 8 5 1 2 1 3 1 7 9 5 7 2 0 5 8 8 6 2 5 4 1 9 2 1 5 8\n",
              " [1261] 1 0 2 4 4 3 6 8 8 2 4 0 5 0 4 4 7 9 3 4 1 5 9 7 3 5 8 8 0 5 3 3 6 6 0 1\n",
              " [1297] 6 0 3 5 4 4 1 2 9 1 4 6 9 9 3 9 8 4 4 3 1 3 1 3 8 7 9 4 8 8 7 9 8 1 4 5\n",
              " [1333] 6 0 5 2 2 2 1 5 5 2 4 9 6 2 7 7 2 2 1 1 2 8 3 7 2 4 1 7 1 7 6 7 8 2 7 3\n",
              " [1369] 1 7 5 8 2 6 2 2 5 6 5 0 9 2 4 3 3 9 7 6 6 8 0 4 1 3 8 3 9 1 8 0 6 7 2 1\n",
              " [1405] 0 5 5 2 0 2 2 0 2 4 9 8 0 9 9 4 6 5 4 9 1 8 3 4 9 9 1 2 2 8 1 9 6 4 0 9\n",
              " [1441] 4 8 3 8 6 0 2 5 1 9 6 2 9 4 0 9 6 0 6 2 5 4 2 3 8 4 5 5 0 3 8 5 3 5 8 6\n",
              " [1477] 5 7 6 3 3 9 6 1 1 2 9 0 4 3 3 6 9 5 7 3 7 7 7 8 3 9 8 3 0 7 2 7 9 4 5 4\n",
              " [1513] 9 3 2 1 4 0 2 3 7 5 9 8 8 5 0 1 1 4 7 3 9 0 0 0 6 6 2 3 7 8 4 7 7 9 2 4\n",
              " [1549] 1 6 5 2 4 9 9 1 8 4 0 9 8 4 8 7 7 0 7 8 8 6 0 4 8 8 2 4 7 6 6 6 4 7 1 8\n",
              " [1585] 8 2 3 6 3 0 0 3 7 6 9 7 9 9 5 4 3 3 6 1 2 3 7 3 3 6 0 3 3 8 4 3 6 3 5 0\n",
              " [1621] 2 0 9 0 7 4 6 9 3 5 1 9 6 1 4 5 4 5 0 5 9 5 2 1 2 9 1 9 9 4 0 8 4 5 2 9\n",
              " [1657] 2 1 2 1 7 3 6 8 8 4 9 1 9 8 5 7 5 1 1 8 6 5 2 4 4 7 2 3 5 6 8 8 6 2 3 1\n",
              " [1693] 0 5 8 9 2 9 6 7 0 4 8 7 1 7 4 1 0 9 7 2 0 0 9 1 7 0 7 8 4 7 2 0 4 6 0 3\n",
              " [1729] 1 1 3 3 9 6 7 4 1 5 3 0 8 7 3 9 6 9 3 5 0 2 7 4 5 1 3 5 8 0 8 8 1 5 0 3\n",
              " [1765] 0 3 1 4 0 3 7 2 7 1 8 0 7 0 4 3 1 9 8 7 7 1 4 9 9 3 8 1 7 9 0 2 0 3 3 7\n",
              " [1801] 6 9 2 3 3 7 7 0 0 7 5 2 9 8 7 4 4 2 6 6 1 9 6 8 2 9 0 8 3 1 1 6 3 5 1 1\n",
              " [1837] 1 3 1 2 3 0 2 0 1 3 5 5 7 4 8 9 6 9 6 8 3 6 6 8 5 1 4 2 4 4 5 1 1 9 0 2\n",
              " [1873] 4 9 5 7 1 8 8 5 6 9 8 7 1 1 6 7 6 3 2 2 0 8 9 2 5 1 0 8 1 4 5 7 9 6 9 0\n",
              " [1909] 6 1 5 5 8 3 8 2 6 5 0 7 4 6 1 3 4 7 3 2 3 4 2 5 2 7 1 7 2 6 4 1 5 2 8 6\n",
              " [1945] 0 1 8 2 5 7 7 6 9 3 5 8 4 2 4 0 8 8 3 4 9 2 7 5 8 6 5 6 0 8 6 7 3 6 4 9\n",
              " [1981] 4 6 6 3 2 4 1 0 1 4 6 2 9 1 1 0 6 3 9 5 6 5 6 5 9 4 6 4 3 9 1 3 4 1 9 1\n",
              " [2017] 7 1 1 9 3 5 4 0 9 3 6 1 7 5 5 3 3 0 1 5 7 5 8 6 5 1 0 8 2 3 4 6 7 9 8 1\n",
              " [2053] 4 9 9 2 8 6 2 7 0 0 6 7 5 8 6 0 9 3 7 1 3 5 4 3 3 5 5 6 3 0 2 3 4 2 3 0\n",
              " [2089] 9 9 4 7 2 1 4 7 0 6 0 8 5 2 8 5 7 3 0 8 2 7 2 8 2 5 5 7 6 4 6 8 4 8 2 7\n",
              " [2125] 4 5 2 0 3 9 4 6 7 2 5 1 1 1 2 3 6 7 8 7 6 4 8 9 4 8 6 3 8 3 1 0 6 2 2 5\n",
              " [2161] 6 9 8 8 1 4 1 7 8 4 6 1 8 4 3 1 2 8 0 8 5 9 1 4 2 0 2 7 0 1 0 2 5 7 6 7\n",
              " [2197] 9 4 2 6 2 4 4 8 0 4 4 5 8 0 6 8 9 8 5 6 9 0 4 8 7 1 3 4 6 8 0 9 1 3 3 6\n",
              " [2233] 9 8 7 1 0 5 7 1 7 5 2 7 9 1 8 5 2 4 9 4 7 2 2 3 4 9 1 9 2 1 7 9 4 4 6 6\n",
              " [2269] 7 2 7 8 0 1 9 7 1 1 7 5 3 3 5 1 3 7 6 1 3 8 7 5 9 4 0 0 2 8 8 2 3 7 1 3\n",
              " [2305] 0 3 4 4 3 8 9 2 3 9 7 1 1 7 0 4 9 6 5 9 1 7 0 2 0 0 4 6 7 0 7 1 4 6 4 5\n",
              " [2341] 4 9 9 1 7 9 5 3 3 8 2 3 6 2 2 1 1 1 1 1 6 9 8 4 3 7 1 6 4 8 0 4 7 4 2 4\n",
              " [2377] 0 7 0 1 9 8 8 6 0 0 4 1 6 8 2 2 3 8 4 8 2 2 1 7 5 4 4 0 4 3 4 7 3 1 0 1\n",
              " [2413] 2 5 4 2 1 0 1 8 9 1 6 8 3 8 9 3 6 2 8 3 2 1 1 0 4 2 9 2 4 3 7 9 1 5 2 4\n",
              " [2449] 9 0 3 8 5 3 6 0 9 4 6 2 5 0 2 7 4 6 6 8 6 6 8 6 9 1 7 2 5 9 9 0 7 2 7 6\n",
              " [2485] 7 0 6 5 4 4 7 2 0 9 9 2 2 9 4 4 2 3 3 2 1 7 0 7 6 4 1 3 8 7 4 5 9 2 5 1\n",
              " [2521] 8 7 3 7 1 5 5 0 9 1 4 0 6 3 3 6 0 4 9 7 5 1 6 8 9 5 5 7 9 3 8 3 8 1 5 3\n",
              " [2557] 5 0 5 5 3 8 6 7 7 7 3 7 0 5 9 0 2 5 5 3 1 7 7 8 6 5 9 3 8 9 5 3 7 9 1 7\n",
              " [2593] 0 0 3 7 2 5 8 1 8 6 2 9 5 7 5 1 8 6 2 5 1 4 8 4 5 8 3 0 6 2 7 3 3 2 1 0\n",
              " [2629] 7 3 4 0 3 9 3 2 8 9 0 3 8 0 7 6 5 4 7 3 0 0 8 6 2 5 1 1 0 0 4 4 0 1 2 3\n",
              " [2665] 2 7 7 8 5 2 5 7 6 9 1 4 1 6 4 2 4 3 5 4 3 9 5 0 1 5 3 8 9 1 9 7 9 5 5 2\n",
              " [2701] 7 4 6 0 1 1 1 0 4 4 7 6 3 0 0 4 3 0 6 1 4 6 1 3 8 1 2 5 6 2 7 3 6 0 1 9\n",
              " [2737] 7 6 6 8 9 2 9 5 8 3 1 0 0 7 6 6 2 1 6 9 3 1 8 6 4 0 6 0 0 0 6 3 5 9 3 4\n",
              " [2773] 5 5 8 5 3 0 4 0 2 9 6 8 2 3 1 2 1 1 5 6 9 8 0 6 6 5 5 3 8 6 2 1 4 5 4 3\n",
              " [2809] 7 8 5 0 9 3 5 1 1 0 4 4 7 0 1 7 0 1 6 1 4 5 6 6 5 7 8 4 4 7 2 5 3 7 0 7\n",
              " [2845] 7 9 6 4 2 8 5 7 8 3 9 5 8 9 9 8 6 2 8 9 2 3 6 1 1 8 9 3 4 0 7 9 6 7 1 4\n",
              " [2881] 1 3 4 9 3 1 4 7 7 4 7 2 9 3 0 8 8 8 4 0 4 4 1 5 2 8 3 4 9 5 2 8 1 5 3 3\n",
              " [2917] 9 4 2 5 6 2 5 9 3 5 9 2 1 9 7 3 0 6 9 8 4 0 4 7 2 9 0 1 0 3 1 6 5 8 1 5\n",
              " [2953] 3 5 0 3 5 5 9 2 8 7 0 4 9 1 9 7 7 5 5 2 0 9 1 8 6 2 3 9 6 2 1 9 1 3 5 5\n",
              " [2989] 0 3 8 3 3 7 6 6 0 1 4 0 6 9 8 1 2 9 9 5 9 7 3 7 8 0 1 3 0 4 6 1 0 2 5 8\n",
              " [3025] 4 4 1 1 5 4 6 6 0 6 9 2 6 2 7 1 7 9 4 0 0 3 8 2 2 3 1 6 0 5 7 7 9 2 6 7\n",
              " [3061] 9 7 8 6 8 8 4 6 8 4 1 2 8 2 3 9 4 0 3 7 3 2 3 3 7 3 4 0 6 2 0 8 1 5 3 5\n",
              " [3097] 4 1 7 1 5 7 5 7 3 2 2 7 3 7 3 7 8 5 4 5 2 5 6 5 3 6 7 4 1 7 1 5 2 3 6 3\n",
              " [3133] 1 4 2 6 7 4 3 8 0 6 2 1 6 5 3 9 1 9 3 2 1 8 4 4 6 5 8 6 9 7 7 8 6 9 7 3\n",
              " [3169] 9 4 0 5 4 6 4 1 2 3 0 0 2 6 6 5 7 0 8 6 4 7 9 0 7 3 4 2 1 8 8 5 9 2 7 1\n",
              " [3205] 8 8 3 2 7 6 0 1 2 7 1 0 8 3 6 0 5 3 6 2 8 7 0 1 4 2 1 1 4 4 4 4 7 1 6 2\n",
              " [3241] 9 9 0 0 1 8 8 4 3 4 2 0 6 1 6 1 2 2 2 1 2 3 7 8 1 0 0 2 1 6 6 0 1 6 2 5\n",
              " [3277] 1 7 4 8 2 1 4 3 8 3 9 9 4 9 3 4 7 2 7 5 7 0 4 3 3 2 6 7 6 0 0 6 7 7 0 5\n",
              " [3313] 5 8 1 0 7 0 2 8 1 5 0 8 8 0 3 2 7 7 2 6 4 7 5 5 5 2 9 2 8 4 6 8 6 5 0 0\n",
              " [3349] 8 7 6 1 7 1 1 2 7 4 0 0 7 7 6 3 8 6 4 2 0 9 4 0 5 7 8 2 7 4 7 1 1 3 6 6\n",
              " [3385] 2 9 1 9 4 8 3 6 9 5 9 6 2 4 6 7 7 0 6 6 9 4 8 3 5 3 4 9 0 0 5 2 5 0 7 1\n",
              " [3421] 1 1 6 7 6 7 9 6 6 4 1 4 3 1 1 2 2 4 1 0 8 7 6 3 4 0 0 6 3 3 0 3 1 7 1 1\n",
              " [3457] 3 1 0 9 9 7 5 4 1 4 8 9 5 3 5 1 9 8 2 3 3 9 9 0 1 0 2 9 3 9 3 3 6 2 9 9\n",
              " [3493] 8 3 7 4 0 4 7 8 4 9 8 1 9 7 5 9 2 8 2 2 0 2 2 3 8 4 6 8 4 8 2 4 6 7 9 3\n",
              " [3529] 3 9 4 3 1 4 4 7 0 5 9 6 0 4 4 4 4 6 1 2 3 2 6 4 5 9 6 8 5 6 0 8 6 4 1 8\n",
              " [3565] 6 5 2 5 4 5 5 4 7 7 0 7 8 2 2 3 7 0 1 8 0 7 1 9 8 7 5 5 9 1 7 5 4 3 1 2\n",
              " [3601] 2 1 6 6 7 1 1 4 0 7 4 2 4 0 6 4 7 6 9 5 3 4 6 5 0 1 8 8 2 8 3 5 7 8 0 8\n",
              " [3637] 5 7 1 1 0 1 3 7 8 5 0 7 1 1 0 1 1 4 5 2 7 6 2 3 0 2 8 5 9 6 9 7 2 1 3 6\n",
              " [3673] 4 1 8 2 4 0 5 1 0 2 2 6 4 4 3 9 6 1 6 5 7 9 2 0 2 6 0 1 4 3 5 2 8 8 0 8\n",
              " [3709] 8 9 0 9 6 7 6 3 9 3 4 7 7 7 4 9 0 6 4 8 4 2 7 2 8 1 0 0 7 8 3 3 3 1 3 7\n",
              " [3745] 6 1 3 1 6 6 5 2 4 7 5 9 5 3 4 9 9 1 6 5 0 1 3 7 0 3 4 8 2 2 0 2 8 1 5 1\n",
              " [3781] 6 8 8 9 1 2 1 3 5 1 0 9 4 4 8 3 2 5 9 7 6 6 2 0 0 0 5 8 3 1 5 2 3 8 5 1\n",
              " [3817] 8 2 6 4 9 9 6 2 3 3 5 6 4 8 0 9 2 8 3 6 7 5 7 2 9 4 9 1 2 8 6 0 7 0 4 1\n",
              " [3853] 1 5 7 5 9 9 1 9 5 9 2 5 0 4 1 0 8 4 0 8 9 8 9 4 2 5 7 9 8 9 8 0 9 9 6 8\n",
              " [3889] 9 9 5 9 8 6 1 0 3 3 5 2 1 6 5 0 2 8 3 5 6 2 3 0 2 2 6 4 3 5 5 1 7 2 1 6\n",
              " [3925] 9 1 9 9 5 5 1 6 2 2 8 6 7 1 4 6 0 6 0 5 3 2 2 3 6 8 9 8 5 3 8 5 4 5 2 0\n",
              " [3961] 5 6 3 2 8 3 9 9 5 7 9 4 6 7 1 3 7 3 6 6 0 9 0 1 9 4 2 8 8 0 1 6 9 7 5 3\n",
              " [3997] 4 7 4 9 9 4 3 6 3 1 1 7 6 9 1 8 4 1 1 9 9 4 3 6 8 1 6 0 4 1 3 7 7 4 9 5\n",
              " [4033] 1 0 0 1 1 6 2 1 9 8 4 0 3 6 4 9 0 7 1 6 5 7 5 2 5 1 8 5 4 7 0 6 7 2 2 5\n",
              " [4069] 8 1 0 4 5 7 1 3 5 1 3 0 0 6 0 7 3 1 8 3 9 7 0 0 8 9 5 9 8 3 2 7 2 9 7 2\n",
              " [4105] 1 1 3 7 5 3 1 9 8 2 2 2 8 8 5 7 3 8 9 8 8 6 8 2 3 9 7 5 6 2 9 2 8 8 1 6\n",
              " [4141] 2 8 7 9 1 8 0 1 7 2 0 7 5 1 9 0 8 0 9 8 6 2 3 9 3 8 0 2 1 1 1 1 4 2 9 7\n",
              " [4177] 7 5 1 1 2 1 9 9 9 1 0 2 0 2 1 1 4 6 4 1 5 4 9 9 7 1 5 6 2 1 2 8 0 6 9 6\n",
              " [4213] 1 9 7 7 1 4 8 5 3 4 3 4 9 7 5 0 7 4 8 8 1 5 3 9 5 9 7 6 9 0 3 6 3 9 8 2\n",
              " [4249] 8 1 2 8 6 8 5 5 3 9 4 9 2 5 1 5 1 9 4 1 4 6 3 5 9 1 2 2 3 3 0 2 9 0 0 9\n",
              " [4285] 9 6 0 9 3 7 8 4 1 9 9 7 2 7 9 9 5 9 5 1 1 8 3 5 1 9 5 3 5 4 9 5 9 3 1 9\n",
              " [4321] 0 9 7 5 4 9 2 0 1 0 5 1 4 9 3 3 6 1 5 2 5 2 2 0 9 2 6 6 0 1 2 0 3 0 2 5\n",
              " [4357] 5 7 9 5 3 0 8 9 5 0 3 2 5 9 0 8 8 4 5 8 8 4 5 4 8 5 4 9 2 2 1 2 6 8 8 7\n",
              " [4393] 0 3 6 6 4 3 8 8 7 2 2 0 0 4 3 9 9 1 9 8 6 6 4 2 6 9 2 8 5 4 5 7 9 9 9 2\n",
              " [4429] 1 8 3 4 0 7 8 3 9 3 4 6 5 6 2 3 9 2 6 0 0 6 1 2 8 7 9 8 2 0 4 7 7 5 0 5\n",
              " [4465] 6 4 6 7 4 3 0 7 5 0 7 4 2 0 8 9 9 4 2 4 6 7 8 7 6 9 4 1 3 7 3 0 8 7 7 6\n",
              " [4501] 9 3 9 2 2 9 2 1 8 3 2 9 6 8 4 0 1 2 8 4 5 2 7 8 1 1 3 0 3 5 7 0 3 1 9 3\n",
              " [4537] 5 3 1 7 7 3 0 8 4 8 2 6 6 2 9 7 3 9 0 9 9 6 4 2 9 7 2 1 1 6 7 4 7 5 9 6\n",
              " [4573] 8 2 1 2 4 5 7 6 1 3 2 5 9 9 3 6 1 1 4 6 9 7 2 1 5 1 4 6 3 8 1 1 0 3 1 6\n",
              " [4609] 8 4 9 0 7 3 0 2 9 0 6 6 6 3 6 7 7 2 8 6 0 8 3 0 2 9 8 3 2 5 3 8 8 0 0 1\n",
              " [4645] 9 5 1 3 9 6 0 1 4 1 7 1 2 3 7 9 7 4 9 9 3 9 2 8 2 7 1 8 0 9 1 0 1 7 7 9\n",
              " [4681] 6 9 9 9 2 1 6 1 3 5 7 1 9 7 6 4 5 7 6 6 9 9 6 3 6 2 9 8 1 2 2 5 5 2 3 7\n",
              " [4717] 2 1 0 1 0 4 5 2 8 2 8 3 5 1 7 7 1 1 2 9 7 8 4 0 5 0 7 8 8 4 7 7 8 5 8 4\n",
              " [4753] 9 8 1 3 8 0 3 1 7 1 5 5 1 6 5 7 4 9 3 5 4 7 1 2 0 8 1 6 0 7 3 4 7 3 9 6\n",
              " [4789] 0 8 6 4 8 7 7 9 3 8 6 9 7 2 3 4 0 2 1 3 3 5 5 7 2 4 6 7 2 8 3 0 8 7 8 4\n",
              " [4825] 0 8 4 4 5 8 5 6 6 3 0 9 3 7 6 8 9 3 4 9 5 8 9 1 2 8 8 6 8 1 3 7 9 0 1 1\n",
              " [4861] 4 7 0 8 1 7 4 5 7 1 2 1 1 3 9 6 2 1 2 6 8 7 6 6 9 3 7 0 5 2 8 0 5 4 3 8\n",
              " [4897] 4 6 6 2 7 9 5 1 3 2 4 3 6 1 9 4 4 7 6 5 4 1 9 9 2 7 8 0 1 3 6 1 3 4 1 1\n",
              " [4933] 1 5 6 0 7 0 7 2 3 2 5 2 2 9 4 9 8 1 2 1 6 1 2 7 8 0 0 0 8 2 2 9 2 2 1 9\n",
              " [4969] 9 2 7 5 1 3 4 9 4 1 8 5 6 2 8 3 1 2 8 4 9 9 3 7 0 7 7 2 3 3 4 0 3 9 9 8\n",
              " [5005] 4 1 0 6 0 9 6 8 6 1 1 9 8 9 2 3 5 5 9 4 2 1 9 4 3 9 6 0 4 0 6 0 1 2 3 4\n",
              " [5041] 7 8 9 0 1 2 3 4 7 8 9 0 1 2 3 4 5 6 7 8 9 8 3 4 7 8 6 3 4 0 9 7 1 9 3 8\n",
              " [5077] 4 7 3 0 9 1 4 5 4 6 2 0 6 2 1 1 1 1 7 2 4 7 5 2 9 4 5 8 4 2 9 7 0 0 7 5\n",
              " [5113] 1 1 7 6 6 6 8 2 2 7 7 4 0 2 4 2 1 8 9 6 1 0 5 9 6 9 8 0 3 0 8 3 9 6 3 0\n",
              " [5149] 1 2 3 4 5 6 7 0 1 2 3 4 5 6 7 8 9 0 1 2 3 4 5 6 7 8 5 4 8 7 4 7 7 3 9 8\n",
              " [5185] 8 3 1 5 8 2 7 4 2 1 5 4 5 5 8 6 4 4 4 1 8 7 5 5 1 8 9 1 3 6 3 3 2 2 6 9\n",
              " [5221] 9 6 5 5 3 3 8 1 6 5 6 8 1 9 7 6 8 3 7 4 7 0 9 0 0 3 7 9 3 0 2 0 1 0 1 0\n",
              " [5257] 4 0 1 0 4 7 9 6 2 6 2 2 9 9 0 1 2 3 4 5 6 7 8 9 0 1 2 3 4 5 6 7 8 9 0 1\n",
              " [5293] 2 3 4 5 6 7 8 9 8 0 5 6 6 0 8 0 2 3 7 9 4 7 1 9 1 7 1 4 0 0 4 1 7 5 7 1\n",
              " [5329] 3 3 3 6 6 9 7 4 3 0 2 5 2 6 0 8 9 4 3 5 4 8 1 5 9 0 6 4 3 6 3 3 8 1 4 7\n",
              " [5365] 5 7 2 2 0 0 1 7 7 9 5 9 8 9 6 8 8 2 3 6 1 2 9 8 9 5 2 6 2 4 8 4 6 5 0 1\n",
              " [5401] 5 6 7 8 9 0 1 2 3 6 5 6 7 8 9 0 1 2 3 4 5 6 7 8 9 7 4 2 0 9 0 1 5 8 8 0\n",
              " [5437] 2 7 8 4 4 6 1 0 4 5 3 9 4 2 0 5 0 1 3 2 9 8 6 0 1 1 8 0 4 7 7 6 3 6 0 7\n",
              " [5473] 3 5 4 2 4 1 8 3 5 6 7 0 6 7 1 2 5 8 1 9 3 8 2 8 7 6 7 1 4 6 2 9 3 0 1 2\n",
              " [5509] 3 4 5 6 7 0 1 2 3 4 5 0 1 2 8 9 1 4 0 9 5 0 8 0 7 7 1 1 2 9 3 6 7 2 3 8\n",
              " [5545] 1 2 9 8 8 7 1 7 1 1 0 3 4 2 6 4 7 4 2 7 4 9 1 0 6 8 5 5 5 3 5 9 7 4 8 5\n",
              " [5581] 9 6 9 3 0 3 8 9 1 8 1 6 0 0 1 2 3 4 5 6 7 8 9 0 1 2 3 4 5 6 7 8 9 0 1 2\n",
              " [5617] 3 4 5 6 7 8 9 3 5 3 2 9 3 2 1 4 5 5 3 3 2 1 3 9 7 2 8 2 8 9 1 8 8 7 8 1\n",
              " [5653] 0 0 7 7 8 7 5 0 6 1 5 7 4 6 1 2 5 0 7 9 9 0 3 8 3 4 8 1 8 6 5 9 0 0 0 3\n",
              " [5689] 7 1 6 4 2 6 6 0 4 5 4 1 3 8 6 3 9 9 5 9 3 7 8 5 6 4 7 6 2 2 0 9 4 0 1 2\n",
              " [5725] 3 4 5 6 7 8 9 0 1 2 7 5 6 0 1 2 3 4 5 6 8 7 1 3 2 8 0 7 5 9 9 6 0 9 4 1\n",
              " [5761] 3 2 1 2 3 8 3 2 6 5 6 8 2 7 4 8 1 8 0 5 3 9 4 1 9 2 1 9 6 7 9 0 4 6 1 7\n",
              " [5797] 3 8 7 2 9 6 5 8 3 9 0 5 7 1 6 1 0 9 3 3 4 4 0 6 2 5 4 2 3 4 6 0 0 2 0 1\n",
              " [5833] 4 5 6 7 8 9 0 1 2 3 4 5 6 7 8 0 1 2 3 4 5 6 7 8 9 8 7 1 3 7 5 2 8 0 7 5\n",
              " [5869] 9 9 0 9 1 1 5 8 8 6 3 2 1 8 3 2 6 5 6 0 4 1 0 5 3 1 9 2 1 9 6 0 4 6 1 7\n",
              " [5905] 3 8 7 2 9 6 5 8 3 5 7 1 6 1 0 9 6 2 5 4 2 3 4 4 6 0 0 2 0 1 2 3 9 3 6 7\n",
              " [5941] 8 9 0 1 2 3 4 5 6 7 8 9 0 1 2 8 4 5 6 7 8 9 8 6 5 0 6 8 9 4 1 9 5 9 0 4\n",
              " [5977] 8 9 1 4 0 5 5 2 1 5 4 0 7 6 0 1 7 0 6 8 9 5 1 7 9 8 6 0 8 1 7 7 1 3 2 5\n",
              " [6013] 1 4 2 0 0 7 8 4 6 4 9 3 8 4 7 2 5 6 3 6 9 6 3 2 2 4 6 9 0 2 5 5 1 3 3 9\n",
              " [6049] 7 8 7 2 2 5 7 9 8 2 1 9 1 3 0 1 2 8 4 5 6 7 8 3 0 1 2 3 4 5 6 7 8 9 0 1\n",
              " [6085] 2 3 4 5 6 7 8 9 1 8 6 5 3 0 7 0 4 1 4 3 6 7 2 3 1 2 1 2 9 6 0 1 3 0 2 7\n",
              " [6121] 5 7 6 2 9 1 9 0 6 0 6 0 2 0 6 1 5 8 4 3 0 1 5 4 4 8 5 7 5 7 8 3 4 8 8 5\n",
              " [6157] 2 9 7 1 3 8 1 0 7 5 3 6 9 4 7 7 9 9 3 4 4 3 8 6 2 0 1 2 3 4 5 6 7 8 9 0\n",
              " [6193] 1 2 3 4 5 6 7 8 9 0 1 2 3 4 5 6 7 8 9 0 8 3 9 5 5 2 6 8 4 9 1 7 1 2 3 5\n",
              " [6229] 9 6 9 1 1 1 2 9 5 6 8 1 2 0 7 7 5 8 2 9 8 9 0 4 6 7 1 3 4 5 6 0 3 6 8 7\n",
              " [6265] 0 4 2 7 4 7 5 4 3 4 2 8 1 5 1 2 0 2 5 6 4 3 0 0 0 3 3 5 7 0 6 4 8 8 6 3\n",
              " [6301] 4 6 9 9 8 2 7 7 1 0 1 2 3 4 5 6 7 8 9 0 1 2 3 4 5 6 7 8 0 1 2 3 4 5 6 7\n",
              " [6337] 8 2 1 7 2 5 0 8 0 2 7 8 8 3 6 0 2 7 6 6 1 2 8 8 7 7 4 7 7 3 7 4 5 4 3 3\n",
              " [6373] 8 4 1 1 9 7 4 3 7 3 3 0 2 5 5 6 6 3 5 2 5 9 9 8 4 1 0 6 0 9 6 8 8 5 6 1\n",
              " [6409] 1 9 8 9 2 3 5 5 9 4 2 1 9 3 9 2 0 6 0 4 0 0 1 2 3 4 7 8 9 0 1 2 3 7 8 9\n",
              " [6445] 0 1 2 3 4 7 8 9 7 3 0 3 1 8 7 6 4 0 2 6 8 3 2 8 1 2 0 7 1 0 4 4 5 8 0 6\n",
              " [6481] 2 3 1 5 1 8 5 9 4 0 7 5 8 8 3 8 9 2 6 2 5 3 1 7 3 0 1 9 9 6 0 3 9 2 8 1\n",
              " [6517] 4 3 5 2 9 2 5 8 9 5 0 1 2 4 5 6 0 1 2 3 4 5 6 7 1 2 3 4 5 1 0 4 5 6 6 3\n",
              " [6553] 4 4 2 9 1 0 6 4 9 7 2 3 3 9 2 0 9 3 3 7 1 5 6 3 1 7 8 4 0 2 4 0 2 4 7 8\n",
              " [6589] 0 7 0 6 9 3 2 8 6 7 5 7 5 1 0 8 1 6 7 2 9 7 9 5 8 6 2 6 2 8 1 7 5 0 1 1\n",
              " [6625] 3 1 4 9 1 8 6 8 5 0 1 2 3 4 5 6 7 5 9 0 1 2 3 4 7 8 9 5 1 7 8 9 9 8 9 8\n",
              " [6661] 4 1 7 7 3 3 7 6 6 6 1 9 0 1 7 6 3 2 1 7 1 3 9 1 7 6 8 4 1 4 3 6 9 6 1 4\n",
              " [6697] 4 7 2 4 4 0 1 2 3 4 5 6 7 8 9 0 1 2 3 4 5 6 9 0 1 2 3 4 7 8 1 3 5 1 7 7\n",
              " [6733] 2 1 4 8 3 4 4 3 9 7 4 1 2 3 5 9 1 6 0 1 0 0 2 9 7 1 1 4 0 4 7 3 6 8 0 3\n",
              " [6769] 7 4 0 6 9 2 6 5 8 6 9 0 4 0 6 1 9 2 0 9 5 1 3 7 6 9 3 0 2 2 0 1 2 3 4 5\n",
              " [6805] 6 7 8 9 0 1 2 3 4 5 6 7 8 9 0 1 2 3 4 5 6 7 8 9 2 1 7 2 5 0 8 0 2 7 8 8\n",
              " [6841] 3 0 6 0 2 7 6 6 1 2 8 8 7 7 4 7 7 3 7 4 5 4 3 3 8 4 5 4 1 1 9 7 4 3 7 3\n",
              " [6877] 3 0 2 5 5 6 3 1 5 2 5 9 9 8 4 1 0 6 0 9 6 8 8 5 6 1 1 9 8 9 2 3 5 5 9 4\n",
              " [6913] 2 1 9 4 9 1 3 9 2 0 6 0 4 0 6 0 1 2 3 4 5 6 7 8 9 0 1 2 3 4 5 6 7 8 9 0\n",
              " [6949] 1 2 3 4 5 6 7 8 9 3 8 0 7 1 0 7 5 5 6 9 0 1 0 0 8 3 4 3 1 5 0 0 9 5 3 4\n",
              " [6985] 9 3 7 6 9 2 4 5 7 2 6 4 9 4 9 4 1 2 2 5 8 1 3 2 9 4 3 8 2 2 1 2 8 6 5 1\n",
              " [7021] 6 7 2 1 3 9 3 8 7 5 7 0 7 4 8 8 5 0 6 6 3 7 6 9 9 4 8 4 1 0 6 6 0 1 2 3\n",
              " [7057] 4 5 6 7 8 9 0 1 2 3 4 5 6 7 8 9 0 1 2 3 4 5 6 7 8 9 7 4 0 4 0 1 7 9 5 1\n",
              " [7093] 4 2 8 9 4 3 7 8 2 4 4 3 3 6 9 9 5 8 6 7 0 6 8 2 6 3 9 3 2 8 6 1 7 4 8 8\n",
              " [7129] 9 0 3 3 9 0 5 2 9 4 1 0 3 7 5 8 7 7 8 2 9 7 1 2 6 4 2 5 2 3 6 6 5 0 0 2\n",
              " [7165] 8 1 6 1 0 4 3 1 6 1 9 0 1 4 5 6 7 8 9 1 2 3 4 5 6 7 0 1 2 3 4 5 6 7 8 9\n",
              " [7201] 8 4 0 0 7 2 4 3 8 6 6 3 2 6 3 3 6 1 4 7 8 0 3 1 9 0 1 9 1 2 7 0 1 3 8 2\n",
              " [7237] 9 2 7 6 5 5 9 9 8 2 9 1 3 2 3 4 3 1 9 0 9 3 6 8 7 0 1 0 5 8 2 7 7 0 1 2\n",
              " [7273] 3 4 5 6 7 8 9 0 1 2 3 4 5 6 7 8 9 0 1 2 3 4 5 6 7 8 9 1 7 4 8 1 5 6 5 7\n",
              " [7309] 2 8 6 3 3 8 6 5 4 0 9 1 7 2 9 1 5 1 3 2 2 3 0 6 4 3 7 6 9 0 4 8 1 4 0 6\n",
              " [7345] 1 2 6 9 2 2 3 5 5 1 0 7 7 9 6 2 9 4 7 0 2 3 4 0 0 8 8 8 5 1 3 7 4 9 8 8\n",
              " [7381] 9 0 9 8 9 0 2 6 5 6 7 4 7 5 4 1 3 5 3 1 2 3 4 5 6 1 2 3 4 6 0 1 2 4 5 6\n",
              " [7417] 7 8 1 7 2 4 1 4 1 4 9 6 8 4 5 3 7 8 4 3 3 5 6 7 0 6 1 6 8 7 0 1 5 0 8 5\n",
              " [7453] 0 1 5 8 4 2 3 9 7 6 9 1 9 0 6 7 1 2 3 9 2 4 5 5 3 7 5 3 1 8 2 2 3 0 2 9\n",
              " [7489] 4 9 7 0 2 7 4 9 9 2 5 9 8 3 8 6 7 0 0 1 2 3 4 5 6 7 8 9 0 1 2 3 4 5 6 7\n",
              " [7525] 8 9 0 1 2 3 4 5 6 7 8 9 0 0 7 2 6 5 5 3 7 8 6 6 6 6 4 3 8 8 3 0 1 9 0 5\n",
              " [7561] 4 1 9 1 2 7 0 1 3 8 2 9 2 7 4 2 6 5 5 9 9 1 1 5 7 6 8 2 9 4 3 1 9 0 9 3\n",
              " [7597] 6 8 7 0 1 0 5 8 2 7 7 0 1 2 3 4 5 6 7 8 9 0 1 2 3 4 5 8 9 0 1 2 3 4 5 6\n",
              " [7633] 7 8 9 2 1 2 1 3 9 9 8 5 3 7 0 7 7 5 7 9 9 4 7 0 3 4 1 5 8 1 4 8 4 1 8 6\n",
              " [7669] 6 4 6 0 5 5 3 3 5 7 2 5 9 6 9 2 6 2 1 2 0 8 3 8 3 0 8 7 4 9 5 0 9 7 0 0\n",
              " [7705] 4 6 0 9 1 6 2 7 6 8 3 5 2 1 8 3 8 6 1 0 2 1 4 0 1 2 3 4 5 6 7 8 9 0 1 2\n",
              " [7741] 3 4 5 6 7 8 9 0 1 2 3 4 5 6 7 8 9 7 6 4 7 6 2 3 4 8 7 8 6 9 8 3 2 2 8 4\n",
              " [7777] 8 5 6 5 0 2 0 1 1 2 9 6 8 2 1 0 6 5 2 9 7 5 3 9 3 7 1 8 3 8 1 9 5 5 0 1\n",
              " [7813] 1 9 8 2 6 0 4 5 0 3 1 8 6 7 5 9 9 3 0 3 1 4 4 0 4 9 0 1 2 3 5 6 7 8 0 1\n",
              " [7849] 2 3 5 6 7 8 9 0 1 2 3 5 6 7 8 9 9 7 0 9 0 1 5 8 8 0 9 3 2 7 8 4 6 1 0 4\n",
              " [7885] 9 4 2 0 5 0 1 6 9 3 2 9 1 6 0 1 1 8 7 7 6 3 6 0 7 2 4 1 7 0 6 7 1 2 5 8\n",
              " [7921] 1 8 2 8 7 6 8 7 1 6 2 9 3 0 1 2 3 4 5 6 7 8 9 0 1 6 3 4 5 6 7 8 9 0 1 2\n",
              " [7957] 3 4 5 6 7 8 9 8 9 5 7 0 3 1 6 8 4 1 5 6 4 2 7 8 1 3 4 3 4 7 2 0 5 0 1 9\n",
              " [7993] 2 3 2 3 5 5 7 8 4 9 9 7 1 1 9 0 7 8 3 4 8 6 3 8 0 9 6 2 1 0 1 0 6 2 3 8\n",
              " [8029] 9 0 7 2 3 4 5 5 2 8 5 4 6 6 6 7 9 1 8 2 1 5 3 4 7 9 4 0 0 0 1 1 3 4 5 6\n",
              " [8065] 7 8 9 0 1 2 3 4 5 6 7 8 9 0 1 2 3 4 5 6 9 0 1 3 1 5 1 2 4 9 8 4 6 8 0 1\n",
              " [8101] 1 9 2 6 6 8 7 4 2 9 7 0 2 1 0 3 6 0 1 2 3 4 5 6 7 8 9 0 1 2 3 4 5 6 7 8\n",
              " [8137] 9 0 1 2 3 4 5 6 7 8 9 8 6 5 9 7 0 2 3 4 3 8 5 1 5 2 3 0 1 2 1 3 2 6 5 3\n",
              " [8173] 0 7 2 7 4 6 4 0 5 9 9 8 9 5 3 1 7 4 7 6 5 4 0 0 6 6 2 0 6 3 7 7 4 4 3 9\n",
              " [8209] 2 8 9 6 0 9 5 3 8 8 7 1 4 0 4 8 5 2 3 9 0 1 9 1 5 1 7 4 8 6 2 1 6 8 8 0\n",
              " [8245] 1 2 3 4 7 8 9 0 1 2 3 4 6 7 8 9 0 1 2 3 4 7 8 9 1 4 5 3 3 0 9 5 4 3 0 8\n",
              " [8281] 4 6 7 0 7 7 1 6 9 1 3 6 2 3 8 2 3 8 9 5 8 8 7 1 7 1 1 0 3 4 2 6 4 7 4 2\n",
              " [8317] 7 4 2 9 2 7 9 2 1 6 6 5 3 4 8 5 9 6 9 0 6 3 0 8 1 6 0 0 1 2 3 4 5 6 7 0\n",
              " [8353] 1 2 3 4 7 8 9 0 1 2 3 4 7 2 5 1 6 4 3 9 9 0 9 7 1 6 4 3 6 2 0 9 8 6 5 7\n",
              " [8389] 0 0 1 7 4 3 2 4 1 3 7 6 4 7 7 7 9 8 4 3 6 2 8 3 5 8 0 5 4 7 1 3 1 7 9 6\n",
              " [8425] 2 0 9 1 7 3 3 9 1 6 4 3 9 8 2 1 8 6 4 1 5 5 6 5 0 1 2 3 4 5 6 7 0 9 0 1\n",
              " [8461] 2 3 4 5 6 7 8 9 0 1 2 3 4 5 6 7 8 9 6 9 7 0 2 3 4 3 8 5 1 3 0 1 2 1 3 2\n",
              " [8497] 0 7 2 6 4 0 5 9 9 8 9 5 3 1 7 4 7 0 0 6 6 6 3 7 4 2 8 9 8 7 1 3 0 4 8 5\n",
              " [8533] 2 3 9 0 1 9 1 5 1 7 6 1 2 1 6 8 0 1 2 3 4 5 6 7 8 9 0 1 2 3 4 5 6 7 8 0\n",
              " [8569] 1 2 3 5 6 7 8 1 0 4 5 6 6 3 4 4 2 8 1 0 6 4 9 7 2 9 2 0 9 3 3 9 1 5 2 3\n",
              " [8605] 1 6 7 3 7 8 4 0 2 4 0 2 4 7 8 0 7 0 6 9 3 2 4 8 6 0 5 7 5 1 0 8 1 6 7 2\n",
              " [8641] 9 7 9 5 6 5 2 6 2 8 1 7 5 5 7 3 5 0 1 1 3 8 4 9 4 5 1 8 6 8 9 0 1 2 3 4\n",
              " [8677] 5 6 7 8 9 0 1 2 3 4 5 6 7 8 9 0 1 2 3 4 5 6 7 8 9 3 5 3 2 9 3 2 1 4 5 5\n",
              " [8713] 2 3 2 1 3 9 7 2 1 2 8 9 1 8 8 7 8 1 0 0 6 7 7 8 7 5 0 6 1 5 7 4 6 1 2 5\n",
              " [8749] 0 7 9 9 0 3 4 4 8 4 1 8 6 5 9 0 0 0 3 7 1 6 4 6 0 4 5 4 1 3 8 6 3 9 9 5\n",
              " [8785] 9 3 7 8 5 6 4 7 6 2 2 0 9 4 0 1 2 3 4 5 6 7 8 9 0 1 2 3 4 5 6 7 8 9 0 1\n",
              " [8821] 2 3 4 5 6 7 8 9 6 4 2 6 4 7 5 5 4 7 2 9 3 9 3 8 2 0 9 5 6 0 1 0 6 5 3 5\n",
              " [8857] 3 8 0 0 3 4 1 5 3 0 8 3 0 6 2 7 8 1 7 1 3 8 5 4 2 0 9 7 6 7 4 1 6 2 6 7\n",
              " [8893] 1 9 8 0 6 9 4 9 9 6 2 3 7 1 9 2 2 5 3 7 8 0 1 2 3 4 7 8 9 0 1 2 3 4 7 8\n",
              " [8929] 9 0 1 7 8 9 8 9 2 6 1 3 5 4 8 2 6 4 3 4 5 9 2 0 3 9 4 9 7 3 8 7 4 4 9 8\n",
              " [8965] 5 8 2 6 6 2 3 1 3 2 7 3 1 9 0 1 1 3 5 0 7 8 1 5 1 4 6 0 0 4 9 1 6 6 9 0\n",
              " [9001] 7 6 1 1 0 1 2 3 4 2 2 3 4 5 6 2 0 1 2 2 8 6 3 9 2 1 9 3 9 6 1 7 2 4 4 5\n",
              " [9037] 7 0 0 1 6 6 8 2 7 7 2 4 2 1 6 1 0 6 9 8 3 9 6 3 0 1 2 3 4 5 6 7 8 9 0 1\n",
              " [9073] 2 3 4 5 6 7 8 9 0 1 2 3 4 5 6 7 8 9 1 6 8 9 9 0 1 2 4 4 3 7 4 4 4 0 3 8\n",
              " [9109] 7 5 8 2 1 7 5 3 8 5 2 5 1 1 6 2 1 3 8 6 4 2 6 2 5 5 0 2 8 0 6 8 1 7 9 1\n",
              " [9145] 9 2 6 7 6 6 8 7 4 9 2 1 3 3 0 5 5 8 0 3 7 9 7 0 2 7 9 1 7 8 0 3 5 3 6 0\n",
              " [9181] 1 2 3 4 5 6 7 8 9 0 1 2 3 4 5 6 7 8 9 0 1 2 3 4 7 8 9 6 4 2 6 4 7 8 9 2\n",
              " [9217] 9 3 9 3 0 0 1 0 4 2 6 3 5 3 0 3 4 1 5 3 0 8 3 0 6 1 7 8 0 9 2 6 7 1 9 6\n",
              " [9253] 9 4 9 9 6 7 1 2 5 3 7 8 0 1 2 4 5 6 7 8 9 0 1 3 4 5 6 7 5 0 1 3 4 7 8 9\n",
              " [9289] 7 5 5 1 9 9 7 1 0 0 5 9 7 1 7 2 2 3 6 8 3 2 0 0 6 1 7 5 8 6 2 9 4 8 8 7\n",
              " [9325] 1 0 8 7 7 5 8 5 3 4 6 1 1 5 5 0 7 2 3 6 4 1 2 4 1 5 4 2 0 4 8 6 1 9 0 2\n",
              " [9361] 5 6 9 3 6 3 6 0 1 2 3 4 5 6 7 8 9 0 1 2 3 4 5 6 7 8 9 0 1 2 3 5 6 7 8 1\n",
              " [9397] 0 9 5 7 5 1 8 6 9 0 4 1 9 3 8 4 4 7 0 1 9 2 8 7 8 2 5 9 6 0 6 5 5 3 3 3\n",
              " [9433] 9 8 1 1 0 6 1 0 0 6 2 1 1 3 2 7 7 8 8 7 8 4 6 0 2 0 7 0 3 6 8 7 1 5 9 9\n",
              " [9469] 3 7 2 4 9 4 3 6 2 2 5 3 2 5 5 9 4 1 7 2 0 1 2 3 4 5 6 7 8 9 0 1 2 3 4 5\n",
              " [9505] 6 7 8 9 0 1 2 3 4 5 6 7 8 9 1 0 1 2 7 5 3 4 4 0 0 6 9 6 6 5 7 2 3 4 4 9\n",
              " [9541] 1 4 0 7 9 5 7 2 3 1 4 4 0 9 9 6 1 8 3 3 7 3 9 8 8 4 7 7 6 2 1 9 8 7 8 8\n",
              " [9577] 7 2 2 3 9 3 3 5 5 0 7 4 5 6 5 1 4 1 1 2 8 2 6 1 5 0 1 2 3 4 5 6 7 8 9 0\n",
              " [9613] 1 2 3 4 5 6 7 8 9 0 1 2 3 4 5 6 7 8 8 0 6 0 1 2 3 7 9 4 7 1 9 1 7 1 4 0\n",
              " [9649] 0 1 7 5 7 1 3 3 3 1 6 9 7 1 3 0 7 6 0 8 9 4 3 5 4 8 1 5 9 0 6 3 3 8 1 4\n",
              " [9685] 7 5 2 0 0 1 7 8 9 6 8 8 2 3 6 1 2 9 5 2 0 1 2 3 4 5 6 7 8 9 0 1 2 3 4 5\n",
              " [9721] 6 7 8 9 0 1 2 3 4 6 6 7 8 9 7 4 6 1 4 0 9 9 3 7 8 0 7 5 8 5 3 2 2 0 5 5\n",
              " [9757] 6 0 3 8 1 0 3 0 4 7 4 9 0 9 0 7 1 7 1 6 6 5 6 0 8 7 6 4 9 9 5 3 7 4 3 0\n",
              " [9793] 7 6 6 1 1 3 2 1 0 0 1 2 3 4 7 8 9 0 1 2 3 4 5 6 7 8 0 1 2 3 4 7 8 9 0 8\n",
              " [9829] 3 9 5 5 2 6 8 4 1 7 1 7 3 5 6 9 1 1 1 2 1 2 0 7 7 5 8 2 9 8 8 7 3 4 6 8\n",
              " [9865] 7 0 4 2 7 7 5 4 3 4 2 8 1 5 1 0 2 3 3 5 7 0 6 8 6 3 9 9 8 2 7 7 1 0 1 7\n",
              " [9901] 8 9 0 1 0 3 4 5 6 7 8 0 1 2 3 4 7 8 9 7 8 6 4 1 9 3 8 4 4 7 0 1 9 2 8 7\n",
              " [9937] 8 2 6 0 6 5 3 3 3 9 1 4 0 6 1 0 0 6 2 1 1 7 7 8 4 6 0 7 0 3 6 8 7 1 5 2\n",
              " [9973] 4 9 4 3 6 4 1 7 2 6 6 0 1 2 3 4 5 6 7 8 9 0 1 2 3 4 5 6"
            ]
          },
          "metadata": {}
        }
      ]
    },
    {
      "cell_type": "markdown",
      "source": [
        "Keras (κέρας) means horn in Greek. It is a reference to a literary image from ancient Greek and Latin literature, first found in the Odyssey, where dream spirits (Oneiroi, singular Oneiros) are divided between those who deceive men with false visions, who arrive to Earth through a gate of ivory, and those who announce a future that will come to pass, who arrive through a gate of horn. It’s a play on the words κέρας (horn) / κραίνω (fulfill), and ἐλέφας (ivory) / ἐλεφαίρομαι (deceive).\n",
        "\n",
        "Keras was initially developed as part of the research effort of project ONEIROS (Open-ended Neuro-Electronic Intelligent Robot Operating System).\n"
      ],
      "metadata": {
        "id": "tN_5xtKyj0ro"
      }
    }
  ]
}