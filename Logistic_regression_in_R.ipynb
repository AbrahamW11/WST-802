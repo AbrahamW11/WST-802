{
  "nbformat": 4,
  "nbformat_minor": 0,
  "metadata": {
    "colab": {
      "provenance": [],
      "collapsed_sections": [],
      "authorship_tag": "ABX9TyMnPGwKEnVC3W4cxTvD/EQ/",
      "include_colab_link": true
    },
    "kernelspec": {
      "name": "ir",
      "display_name": "R"
    },
    "language_info": {
      "name": "R"
    }
  },
  "cells": [
    {
      "cell_type": "markdown",
      "metadata": {
        "id": "view-in-github",
        "colab_type": "text"
      },
      "source": [
        "<a href=\"https://colab.research.google.com/github/AbrahamW11/WST-802/blob/main/Logistic_regression_in_R.ipynb\" target=\"_parent\"><img src=\"https://colab.research.google.com/assets/colab-badge.svg\" alt=\"Open In Colab\"/></a>"
      ]
    },
    {
      "cell_type": "code",
      "execution_count": null,
      "metadata": {
        "colab": {
          "base_uri": "https://localhost:8080/",
          "height": 468
        },
        "id": "UBaFXnwzbH5b",
        "outputId": "0463419e-c826-4c24-ccad-72028da19f2c"
      },
      "outputs": [
        {
          "output_type": "display_data",
          "data": {
            "text/plain": [
              "\n",
              "Call:\n",
              "glm(formula = y ~ x1 + x2 + x3 + x4 + x5, family = \"binomial\")\n",
              "\n",
              "Deviance Residuals: \n",
              "    Min       1Q   Median       3Q      Max  \n",
              "-0.2079  -0.1275  -0.1021  -0.0811   3.5216  \n",
              "\n",
              "Coefficients:\n",
              "            Estimate Std. Error z value Pr(>|z|)    \n",
              "(Intercept) -5.81444    0.56346 -10.319  < 2e-16 ***\n",
              "x1          -0.29278    0.25576  -1.145  0.25232    \n",
              "x2          -0.03960    0.15572  -0.254  0.79926    \n",
              "x3           0.25896    0.07919   3.270  0.00107 ** \n",
              "x4          -0.79437    0.27158  -2.925  0.00344 ** \n",
              "x5           0.09531    0.09023   1.056  0.29085    \n",
              "---\n",
              "Signif. codes:  0 ‘***’ 0.001 ‘**’ 0.01 ‘*’ 0.05 ‘.’ 0.1 ‘ ’ 1\n",
              "\n",
              "(Dispersion parameter for binomial family taken to be 1)\n",
              "\n",
              "    Null deviance: 764.07  on 9999  degrees of freedom\n",
              "Residual deviance: 741.10  on 9994  degrees of freedom\n",
              "AIC: 753.1\n",
              "\n",
              "Number of Fisher Scoring iterations: 8\n"
            ]
          },
          "metadata": {}
        }
      ],
      "source": [
        "set.seed(100)\n",
        "nsim <- 10000\n",
        "\n",
        "x1 <- sample(c(0,1), size = nsim, replace = TRUE)\n",
        "x2 <- sample(c(1:3), size = nsim, replace = TRUE)\n",
        "x3 <- sample(1:6, size= nsim, replace = TRUE)\n",
        "x4 <- sample(c(0,1), size = nsim, replace = TRUE)\n",
        "x5 <- sample(c(1:5), size = nsim, replace = TRUE)\n",
        "\n",
        "\n",
        "\n",
        "Xb <- -6 + 0.006*x1 + 0.08*x2 + 0.3* x3 - 0.56*x4 - 0.02*x5\n",
        "p <- 1/(1+exp(-Xb))  \n",
        "y <- rbinom(n = nsim, size = 1, prob = p)\n",
        "\n",
        "dat <-data.frame(x1,x2,x3,x4,x5,y)\n",
        "\n",
        "mod <- glm(y ~ x1 + x2 + x3 + x4 + x5, family = \"binomial\")\n",
        "summary(mod)\n"
      ]
    }
  ]
}